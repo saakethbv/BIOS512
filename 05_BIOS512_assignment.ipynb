{
 "cells": [
  {
   "cell_type": "markdown",
   "metadata": {},
   "source": [
    "# Assignment #5"
   ]
  },
  {
   "cell_type": "markdown",
   "metadata": {},
   "source": [
    "## Due: November 17, 2020"
   ]
  },
  {
   "cell_type": "markdown",
   "metadata": {},
   "source": [
    "Read in the [Volcano eruptions](https://raw.githubusercontent.com/rfordatascience/tidytuesday/master/data/2020/2020-05-12/eruptions.csv) data from the TidyTuesday project with `read_csv`."
   ]
  },
  {
   "cell_type": "code",
   "execution_count": 1,
   "metadata": {},
   "outputs": [
    {
     "name": "stderr",
     "output_type": "stream",
     "text": [
      "Warning message:\n",
      "“replacing previous import ‘vctrs::data_frame’ by ‘tibble::data_frame’ when loading ‘dplyr’”\n",
      "── \u001b[1mAttaching packages\u001b[22m ─────────────────────────────────────── tidyverse 1.3.0 ──\n",
      "\n",
      "\u001b[32m✔\u001b[39m \u001b[34mggplot2\u001b[39m 3.3.2     \u001b[32m✔\u001b[39m \u001b[34mpurrr  \u001b[39m 0.3.4\n",
      "\u001b[32m✔\u001b[39m \u001b[34mtibble \u001b[39m 3.0.4     \u001b[32m✔\u001b[39m \u001b[34mdplyr  \u001b[39m 1.0.1\n",
      "\u001b[32m✔\u001b[39m \u001b[34mtidyr  \u001b[39m 1.1.1     \u001b[32m✔\u001b[39m \u001b[34mstringr\u001b[39m 1.4.0\n",
      "\u001b[32m✔\u001b[39m \u001b[34mreadr  \u001b[39m 1.3.1     \u001b[32m✔\u001b[39m \u001b[34mforcats\u001b[39m 0.5.0\n",
      "\n",
      "Warning message:\n",
      "“package ‘ggplot2’ was built under R version 4.0.1”\n",
      "Warning message:\n",
      "“package ‘tidyr’ was built under R version 4.0.2”\n",
      "Warning message:\n",
      "“package ‘dplyr’ was built under R version 4.0.2”\n",
      "── \u001b[1mConflicts\u001b[22m ────────────────────────────────────────── tidyverse_conflicts() ──\n",
      "\u001b[31m✖\u001b[39m \u001b[34mdplyr\u001b[39m::\u001b[32mfilter()\u001b[39m masks \u001b[34mstats\u001b[39m::filter()\n",
      "\u001b[31m✖\u001b[39m \u001b[34mdplyr\u001b[39m::\u001b[32mlag()\u001b[39m    masks \u001b[34mstats\u001b[39m::lag()\n",
      "\n",
      "Parsed with column specification:\n",
      "cols(\n",
      "  volcano_number = \u001b[32mcol_double()\u001b[39m,\n",
      "  volcano_name = \u001b[31mcol_character()\u001b[39m,\n",
      "  eruption_number = \u001b[32mcol_double()\u001b[39m,\n",
      "  eruption_category = \u001b[31mcol_character()\u001b[39m,\n",
      "  area_of_activity = \u001b[31mcol_character()\u001b[39m,\n",
      "  vei = \u001b[32mcol_double()\u001b[39m,\n",
      "  start_year = \u001b[32mcol_double()\u001b[39m,\n",
      "  start_month = \u001b[32mcol_double()\u001b[39m,\n",
      "  start_day = \u001b[32mcol_double()\u001b[39m,\n",
      "  evidence_method_dating = \u001b[31mcol_character()\u001b[39m,\n",
      "  end_year = \u001b[32mcol_double()\u001b[39m,\n",
      "  end_month = \u001b[32mcol_double()\u001b[39m,\n",
      "  end_day = \u001b[32mcol_double()\u001b[39m,\n",
      "  latitude = \u001b[32mcol_double()\u001b[39m,\n",
      "  longitude = \u001b[32mcol_double()\u001b[39m\n",
      ")\n",
      "\n"
     ]
    }
   ],
   "source": [
    "library('tidyverse')\n",
    "\n",
    "volcano <- read_csv('https://raw.githubusercontent.com/rfordatascience/tidytuesday/master/data/2020/2020-05-12/eruptions.csv')"
   ]
  },
  {
   "cell_type": "markdown",
   "metadata": {},
   "source": [
    "Use the `print` function to find the number of rows and columns in the data."
   ]
  },
  {
   "cell_type": "code",
   "execution_count": 2,
   "metadata": {},
   "outputs": [
    {
     "name": "stdout",
     "output_type": "stream",
     "text": [
      "\u001b[90m# A tibble: 11,178 x 15\u001b[39m\n",
      "   volcano_number volcano_name eruption_number eruption_catego… area_of_activity\n",
      "            \u001b[3m\u001b[90m<dbl>\u001b[39m\u001b[23m \u001b[3m\u001b[90m<chr>\u001b[39m\u001b[23m                  \u001b[3m\u001b[90m<dbl>\u001b[39m\u001b[23m \u001b[3m\u001b[90m<chr>\u001b[39m\u001b[23m            \u001b[3m\u001b[90m<chr>\u001b[39m\u001b[23m           \n",
      "\u001b[90m 1\u001b[39m         \u001b[4m2\u001b[24m\u001b[4m6\u001b[24m\u001b[4m6\u001b[24m030 Soputan                \u001b[4m2\u001b[24m\u001b[4m2\u001b[24m354 Confirmed Erupt… \u001b[31mNA\u001b[39m              \n",
      "\u001b[90m 2\u001b[39m         \u001b[4m3\u001b[24m\u001b[4m4\u001b[24m\u001b[4m3\u001b[24m100 San Miguel             \u001b[4m2\u001b[24m\u001b[4m2\u001b[24m355 Confirmed Erupt… \u001b[31mNA\u001b[39m              \n",
      "\u001b[90m 3\u001b[39m         \u001b[4m2\u001b[24m\u001b[4m3\u001b[24m\u001b[4m3\u001b[24m020 Fournaise, …           \u001b[4m2\u001b[24m\u001b[4m2\u001b[24m343 Confirmed Erupt… \u001b[31mNA\u001b[39m              \n",
      "\u001b[90m 4\u001b[39m         \u001b[4m3\u001b[24m\u001b[4m4\u001b[24m\u001b[4m5\u001b[24m020 Rincon de l…           \u001b[4m2\u001b[24m\u001b[4m2\u001b[24m346 Confirmed Erupt… \u001b[31mNA\u001b[39m              \n",
      "\u001b[90m 5\u001b[39m         \u001b[4m3\u001b[24m\u001b[4m5\u001b[24m\u001b[4m3\u001b[24m010 Fernandina             \u001b[4m2\u001b[24m\u001b[4m2\u001b[24m347 Confirmed Erupt… \u001b[31mNA\u001b[39m              \n",
      "\u001b[90m 6\u001b[39m         \u001b[4m2\u001b[24m\u001b[4m7\u001b[24m\u001b[4m3\u001b[24m070 Taal                   \u001b[4m2\u001b[24m\u001b[4m2\u001b[24m344 Confirmed Erupt… \u001b[31mNA\u001b[39m              \n",
      "\u001b[90m 7\u001b[39m         \u001b[4m2\u001b[24m\u001b[4m8\u001b[24m\u001b[4m2\u001b[24m050 Kuchinoerab…           \u001b[4m2\u001b[24m\u001b[4m2\u001b[24m345 Confirmed Erupt… \u001b[31mNA\u001b[39m              \n",
      "\u001b[90m 8\u001b[39m         \u001b[4m2\u001b[24m\u001b[4m4\u001b[24m\u001b[4m1\u001b[24m040 Whakaari/Wh…           \u001b[4m2\u001b[24m\u001b[4m2\u001b[24m338 Confirmed Erupt… 1978/90 Crater …\n",
      "\u001b[90m 9\u001b[39m         \u001b[4m3\u001b[24m\u001b[4m1\u001b[24m\u001b[4m1\u001b[24m060 Semisopochn…           \u001b[4m2\u001b[24m\u001b[4m2\u001b[24m341 Confirmed Erupt… \u001b[31mNA\u001b[39m              \n",
      "\u001b[90m10\u001b[39m         \u001b[4m2\u001b[24m\u001b[4m8\u001b[24m\u001b[4m4\u001b[24m096 Nishinoshima           \u001b[4m2\u001b[24m\u001b[4m2\u001b[24m340 Confirmed Erupt… \u001b[31mNA\u001b[39m              \n",
      "\u001b[90m# … with 11,168 more rows, and 10 more variables: vei \u001b[3m\u001b[90m<dbl>\u001b[90m\u001b[23m, start_year \u001b[3m\u001b[90m<dbl>\u001b[90m\u001b[23m,\u001b[39m\n",
      "\u001b[90m#   start_month \u001b[3m\u001b[90m<dbl>\u001b[90m\u001b[23m, start_day \u001b[3m\u001b[90m<dbl>\u001b[90m\u001b[23m, evidence_method_dating \u001b[3m\u001b[90m<chr>\u001b[90m\u001b[23m,\u001b[39m\n",
      "\u001b[90m#   end_year \u001b[3m\u001b[90m<dbl>\u001b[90m\u001b[23m, end_month \u001b[3m\u001b[90m<dbl>\u001b[90m\u001b[23m, end_day \u001b[3m\u001b[90m<dbl>\u001b[90m\u001b[23m, latitude \u001b[3m\u001b[90m<dbl>\u001b[90m\u001b[23m,\u001b[39m\n",
      "\u001b[90m#   longitude \u001b[3m\u001b[90m<dbl>\u001b[90m\u001b[23m\u001b[39m\n"
     ]
    }
   ],
   "source": [
    "print(volcano)"
   ]
  },
  {
   "cell_type": "markdown",
   "metadata": {},
   "source": [
    "Using `group_by`, `summarize` (or `count`), and `arrange`, find the volcano with the most recorded eruptions in the data. Remeber the [desc](https://dplyr.tidyverse.org/reference/desc.html) function can be used to sort in descending order."
   ]
  },
  {
   "cell_type": "code",
   "execution_count": 3,
   "metadata": {},
   "outputs": [
    {
     "name": "stdout",
     "output_type": "stream",
     "text": [
      "\u001b[90m# A tibble: 921 x 2\u001b[39m\n",
      "\u001b[90m# Groups:   volcano_name [921]\u001b[39m\n",
      "   volcano_name               n\n",
      "   \u001b[3m\u001b[90m<chr>\u001b[39m\u001b[23m                  \u001b[3m\u001b[90m<int>\u001b[39m\u001b[23m\n",
      "\u001b[90m 1\u001b[39m Etna                     241\n",
      "\u001b[90m 2\u001b[39m Fournaise, Piton de la   194\n",
      "\u001b[90m 3\u001b[39m Asosan                   186\n",
      "\u001b[90m 4\u001b[39m Villarrica               164\n",
      "\u001b[90m 5\u001b[39m Asamayama                147\n",
      "\u001b[90m 6\u001b[39m Katla                    132\n",
      "\u001b[90m 7\u001b[39m Klyuchevskoy             111\n",
      "\u001b[90m 8\u001b[39m Mauna Loa                110\n",
      "\u001b[90m 9\u001b[39m Merapi                   110\n",
      "\u001b[90m10\u001b[39m Izu-Oshima               108\n",
      "\u001b[90m# … with 911 more rows\u001b[39m\n"
     ]
    }
   ],
   "source": [
    "volcgroup <- group_by(volcano, volcano_name) %>% count(volcano_name) %>% arrange(desc(n))\n",
    "\n",
    "print(volcgroup)\n",
    "\n",
    "#Etna"
   ]
  },
  {
   "cell_type": "markdown",
   "metadata": {},
   "source": [
    "Using `filter` and `arrange`, what is the year of the most recent eruption for the volcano above (i.e. the volcano with the most recorded eruptions in the data)? "
   ]
  },
  {
   "cell_type": "code",
   "execution_count": 4,
   "metadata": {},
   "outputs": [
    {
     "name": "stdout",
     "output_type": "stream",
     "text": [
      "\u001b[90m# A tibble: 241 x 15\u001b[39m\n",
      "   volcano_number volcano_name eruption_number eruption_category \n",
      "            \u001b[3m\u001b[90m<dbl>\u001b[39m\u001b[23m \u001b[3m\u001b[90m<chr>\u001b[39m\u001b[23m                  \u001b[3m\u001b[90m<dbl>\u001b[39m\u001b[23m \u001b[3m\u001b[90m<chr>\u001b[39m\u001b[23m             \n",
      "\u001b[90m 1\u001b[39m         \u001b[4m2\u001b[24m\u001b[4m1\u001b[24m\u001b[4m1\u001b[24m060 Etna                   \u001b[4m2\u001b[24m\u001b[4m0\u001b[24m841 Confirmed Eruption\n",
      "\u001b[90m 2\u001b[39m         \u001b[4m2\u001b[24m\u001b[4m1\u001b[24m\u001b[4m1\u001b[24m060 Etna                   \u001b[4m1\u001b[24m\u001b[4m3\u001b[24m854 Confirmed Eruption\n",
      "\u001b[90m 3\u001b[39m         \u001b[4m2\u001b[24m\u001b[4m1\u001b[24m\u001b[4m1\u001b[24m060 Etna                   \u001b[4m1\u001b[24m\u001b[4m3\u001b[24m853 Confirmed Eruption\n",
      "\u001b[90m 4\u001b[39m         \u001b[4m2\u001b[24m\u001b[4m1\u001b[24m\u001b[4m1\u001b[24m060 Etna                   \u001b[4m1\u001b[24m\u001b[4m3\u001b[24m852 Confirmed Eruption\n",
      "\u001b[90m 5\u001b[39m         \u001b[4m2\u001b[24m\u001b[4m1\u001b[24m\u001b[4m1\u001b[24m060 Etna                   \u001b[4m1\u001b[24m\u001b[4m3\u001b[24m849 Confirmed Eruption\n",
      "\u001b[90m 6\u001b[39m         \u001b[4m2\u001b[24m\u001b[4m1\u001b[24m\u001b[4m1\u001b[24m060 Etna                   \u001b[4m1\u001b[24m\u001b[4m3\u001b[24m848 Confirmed Eruption\n",
      "\u001b[90m 7\u001b[39m         \u001b[4m2\u001b[24m\u001b[4m1\u001b[24m\u001b[4m1\u001b[24m060 Etna                   \u001b[4m1\u001b[24m\u001b[4m3\u001b[24m847 Confirmed Eruption\n",
      "\u001b[90m 8\u001b[39m         \u001b[4m2\u001b[24m\u001b[4m1\u001b[24m\u001b[4m1\u001b[24m060 Etna                   \u001b[4m1\u001b[24m\u001b[4m3\u001b[24m846 Confirmed Eruption\n",
      "\u001b[90m 9\u001b[39m         \u001b[4m2\u001b[24m\u001b[4m1\u001b[24m\u001b[4m1\u001b[24m060 Etna                   \u001b[4m1\u001b[24m\u001b[4m3\u001b[24m838 Confirmed Eruption\n",
      "\u001b[90m10\u001b[39m         \u001b[4m2\u001b[24m\u001b[4m1\u001b[24m\u001b[4m1\u001b[24m060 Etna                   \u001b[4m1\u001b[24m\u001b[4m3\u001b[24m837 Confirmed Eruption\n",
      "   area_of_activity                         vei start_year start_month start_day\n",
      "   \u001b[3m\u001b[90m<chr>\u001b[39m\u001b[23m                                  \u001b[3m\u001b[90m<dbl>\u001b[39m\u001b[23m      \u001b[3m\u001b[90m<dbl>\u001b[39m\u001b[23m       \u001b[3m\u001b[90m<dbl>\u001b[39m\u001b[23m     \u001b[3m\u001b[90m<dbl>\u001b[39m\u001b[23m\n",
      "\u001b[90m 1\u001b[39m New Southeast Crater (NSEC)                2       \u001b[4m2\u001b[24m013           9         3\n",
      "\u001b[90m 2\u001b[39m Bocca Nuova, NE and SE Craters             1       \u001b[4m2\u001b[24m010           8        25\n",
      "\u001b[90m 3\u001b[39m SE Crater                                  2       \u001b[4m2\u001b[24m010           4         8\n",
      "\u001b[90m 4\u001b[39m East base of NE Crater (3000-2650 m)       1       \u001b[4m2\u001b[24m008           5        13\n",
      "\u001b[90m 5\u001b[39m Bocca Nuova, SE Crater and flank vents     2       \u001b[4m2\u001b[24m007           3        19\n",
      "\u001b[90m 6\u001b[39m SE Crater & flank vents; NE Crater         2       \u001b[4m2\u001b[24m006           7        14\n",
      "\u001b[90m 7\u001b[39m Bocca Nuova                                1       \u001b[4m2\u001b[24m005          12        16\n",
      "\u001b[90m 8\u001b[39m SE Crater, SE flank (3000-2320 m)          1       \u001b[4m2\u001b[24m004           9         7\n",
      "\u001b[90m 9\u001b[39m Central Crater                             1       \u001b[4m2\u001b[24m004           2        12\n",
      "\u001b[90m10\u001b[39m NE Crater                                  1       \u001b[4m2\u001b[24m003           3         8\n",
      "   evidence_method_dating  end_year end_month end_day latitude longitude\n",
      "   \u001b[3m\u001b[90m<chr>\u001b[39m\u001b[23m                      \u001b[3m\u001b[90m<dbl>\u001b[39m\u001b[23m     \u001b[3m\u001b[90m<dbl>\u001b[39m\u001b[23m   \u001b[3m\u001b[90m<dbl>\u001b[39m\u001b[23m    \u001b[3m\u001b[90m<dbl>\u001b[39m\u001b[23m     \u001b[3m\u001b[90m<dbl>\u001b[39m\u001b[23m\n",
      "\u001b[90m 1\u001b[39m Historical Observations     \u001b[4m2\u001b[24m020         4      17     37.7      15.0\n",
      "\u001b[90m 2\u001b[39m Historical Observations     \u001b[4m2\u001b[24m013         4      27     37.7      15.0\n",
      "\u001b[90m 3\u001b[39m Historical Observations     \u001b[4m2\u001b[24m010         4       8     37.7      15.0\n",
      "\u001b[90m 4\u001b[39m Historical Observations     \u001b[4m2\u001b[24m009         7       4     37.7      15.0\n",
      "\u001b[90m 5\u001b[39m Historical Observations     \u001b[4m2\u001b[24m008         5      16     37.7      15.0\n",
      "\u001b[90m 6\u001b[39m Historical Observations     \u001b[4m2\u001b[24m006        12      15     37.7      15.0\n",
      "\u001b[90m 7\u001b[39m Historical Observations     \u001b[4m2\u001b[24m005        12      22     37.7      15.0\n",
      "\u001b[90m 8\u001b[39m Historical Observations     \u001b[4m2\u001b[24m005         3       8     37.7      15.0\n",
      "\u001b[90m 9\u001b[39m Historical Observations     \u001b[4m2\u001b[24m004         2      14     37.7      15.0\n",
      "\u001b[90m10\u001b[39m Historical Observations     \u001b[4m2\u001b[24m003        11       9     37.7      15.0\n",
      "\u001b[90m# … with 231 more rows\u001b[39m\n"
     ]
    }
   ],
   "source": [
    "etna <- filter(volcano, volcano_name == 'Etna') %>% arrange(desc(start_year))\n",
    "\n",
    "print(etna, width = Inf)\n",
    "\n",
    "#2013"
   ]
  },
  {
   "cell_type": "markdown",
   "metadata": {},
   "source": [
    "Make a bar chart of eruption count by volcano_name. The bars should be sorted by frequency using `fct_infreq`. \"Lump\" the low frequency values into an \"Other\" category with `fct_lump`.\n",
    "\n",
    "**Bonus:** Can you remove the \"Other\" category with the `filter` function if it dominates the chart?"
   ]
  },
  {
   "cell_type": "code",
   "execution_count": 15,
   "metadata": {},
   "outputs": [
    {
     "data": {
      "image/png": "[encoded data removed]",
      "text/plain": [
       "plot without title"
      ]
     },
     "metadata": {
      "image/png": {
       "height": 420,
       "width": 420
      }
     },
     "output_type": "display_data"
    }
   ],
   "source": [
    "volcplot <- mutate(volcano, volc = fct_lump(volcano_name, n = 10)) %>% filter(volc != 'Other')\n",
    "p <- ggplot(data=volcplot, aes(x=fct_infreq(volc))) +\n",
    "    geom_bar()\n",
    "p"
   ]
  },
  {
   "cell_type": "markdown",
   "metadata": {},
   "source": [
    "Using `mutate` generate a column that represents the span of each eruption in years (i.e. \"end_year\" minus \"start_year\"). Use `filter` to exclude eruption spans shorter than ten years. \n",
    "\n",
    "- Plot a histogram of your generated column (i.e. eruption spans greater than ten years).\n",
    "- Which volcano(s) has/have the longest eruption span in years? How long did the eruption last?"
   ]
  },
  {
   "cell_type": "code",
   "execution_count": 19,
   "metadata": {},
   "outputs": [
    {
     "data": {
      "image/png": "[encoded data removed]",
      "text/plain": [
       "plot without title"
      ]
     },
     "metadata": {
      "image/png": {
       "height": 420,
       "width": 420
      }
     },
     "output_type": "display_data"
    }
   ],
   "source": [
    "erupt <- mutate(volcano, eruptspan = end_year - start_year) %>% filter(eruptspan >= 10)\n",
    "\n",
    "m <- ggplot(data=erupt, aes(x = eruptspan)) + geom_histogram(binwidth = 50)\n",
    "\n",
    "m"
   ]
  },
  {
   "cell_type": "code",
   "execution_count": 21,
   "metadata": {},
   "outputs": [
    {
     "name": "stdout",
     "output_type": "stream",
     "text": [
      "\u001b[90m# A tibble: 94 x 2\u001b[39m\n",
      "   volcano_name eruptspan\n",
      "   \u001b[3m\u001b[90m<chr>\u001b[39m\u001b[23m            \u001b[3m\u001b[90m<dbl>\u001b[39m\u001b[23m\n",
      "\u001b[90m 1\u001b[39m Stromboli          299\n",
      "\u001b[90m 2\u001b[39m Fogo               261\n",
      "\u001b[90m 3\u001b[39m Yasur              246\n",
      "\u001b[90m 4\u001b[39m Sangay             188\n",
      "\u001b[90m 5\u001b[39m Santa Maria         98\n",
      "\u001b[90m 6\u001b[39m Dukono              87\n",
      "\u001b[90m 7\u001b[39m Stromboli           86\n",
      "\u001b[90m 8\u001b[39m Sangay              77\n",
      "\u001b[90m 9\u001b[39m Kilauea             71\n",
      "\u001b[90m10\u001b[39m Galeras             66\n",
      "\u001b[90m# … with 84 more rows\u001b[39m\n"
     ]
    }
   ],
   "source": [
    "eruptlong <- arrange(erupt, desc(eruptspan)) %>% select(volcano_name, eruptspan)\n",
    "\n",
    "print(eruptlong)\n",
    "\n",
    "#Stromboli 299 Years"
   ]
  },
  {
   "cell_type": "code",
   "execution_count": null,
   "metadata": {},
   "outputs": [],
   "source": []
  }
 ],
 "metadata": {
  "kernelspec": {
   "display_name": "R",
   "language": "R",
   "name": "ir"
  },
  "language_info": {
   "codemirror_mode": "r",
   "file_extension": ".r",
   "mimetype": "text/x-r-source",
   "name": "R",
   "pygments_lexer": "r",
   "version": "4.0.0"
  }
 },
 "nbformat": 4,
 "nbformat_minor": 4
}
